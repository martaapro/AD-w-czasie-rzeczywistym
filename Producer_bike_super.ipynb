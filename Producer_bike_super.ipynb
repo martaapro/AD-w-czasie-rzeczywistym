{
 "cells": [
  {
   "cell_type": "code",
   "execution_count": 18,
   "id": "fc50b489-eb62-4fb9-b2c2-c3de45f570d0",
   "metadata": {},
   "outputs": [
    {
     "name": "stdout",
     "output_type": "stream",
     "text": [
      "Overwriting bike_test.py\n"
     ]
    }
   ],
   "source": [
    "%%file bike_test.py\n",
    "import json\n",
    "import time\n",
    "import logging\n",
    "import socket\n",
    "from datetime import datetime\n",
    "from numpy.random import uniform, choice, randn\n",
    "import random\n",
    "import pandas as pd\n",
    "from confluent_kafka import Producer\n",
    " \n",
    "KAFKA_BROKER = 'broker:9092'\n",
    "TRANSACTION_TOPIC = 'streaming'\n",
    "LAG = 60  \n",
    "PROBABILITY_OUTLIER = 0.05\n",
    " \n",
    "def create_producer():\n",
    "    try:\n",
    "        producer = Producer({\n",
    "            \"bootstrap.servers\": KAFKA_BROKER,\n",
    "            \"client.id\": socket.gethostname(),\n",
    "            \"enable.idempotence\": True,\n",
    "            \"batch.size\": 64000,\n",
    "            \"linger.ms\": 10,\n",
    "            \"acks\": \"all\",\n",
    "            \"retries\": 5,\n",
    "            \"delivery.timeout.ms\": 1000\n",
    "        })\n",
    "    except Exception as e:\n",
    "        logging.exception(\"Nie mogę utworzyć producenta\")\n",
    "        producer = None\n",
    "    return producer\n",
    " \n",
    "def bike_random(row):\n",
    "    bike_number = random.randint(0, row['Number of slots'])\n",
    "    e_bike_number = random.randint(0, row['Number of slots'] - bike_number)\n",
    "    empty_slots = row['Number of slots'] - bike_number - e_bike_number\n",
    "    return bike_number, e_bike_number, empty_slots\n",
    " \n",
    "def generate_json(df):\n",
    "    all_messages = []\n",
    "    current_time = datetime.utcnow().isoformat()\n",
    "    for index, row in df.iterrows():\n",
    "        bike_number, e_bike_number, empty_slots = bike_random(row)\n",
    "        message = {\n",
    "            \"station_name\": row['Station Name'],\n",
    "            \"latitude\": row['Latitude'],\n",
    "            \"longitude\": row['Longitude'],\n",
    "            \"number_of_slots\": row['Number of slots'],\n",
    "            \"number_of_free_bikes\": bike_number,\n",
    "            \"number_of_e_bikes\": e_bike_number,\n",
    "            \"number_of_empty_slots\": empty_slots,\n",
    "            \"update_time\": current_time\n",
    "        }\n",
    "        all_messages.append(message)\n",
    "    return all_messages\n",
    " \n",
    "def send_messages(producer, messages):\n",
    "    try:\n",
    "        producer.produce(topic=TRANSACTION_TOPIC, value=json.dumps(messages).encode(\"utf-8\"))\n",
    "        producer.flush()\n",
    "    except Exception as e:\n",
    "        logging.exception(\"Błąd podczas wysyłania wiadomości do Kafka\")\n",
    " \n",
    "producer = create_producer()\n",
    " \n",
    "if producer is not None:\n",
    "    df = pd.read_excel(\"/usr/bin/bike.xlsx\")\n",
    "    _id = 0\n",
    "    try:\n",
    "        while True:\n",
    "            all_messages = generate_json(df)\n",
    "            send_messages(producer, all_messages)  \n",
    "            time.sleep(LAG)\n",
    "    except KeyboardInterrupt:\n",
    "        producer.close()\n",
    "else:\n",
    "    print(\"Producer not created\")"
   ]
  },
  {
   "cell_type": "code",
   "execution_count": null,
   "id": "6a741391-0605-475d-aa3c-d40329dd8aa0",
   "metadata": {},
   "outputs": [],
   "source": []
  }
 ],
 "metadata": {
  "kernelspec": {
   "display_name": "Python 3 (ipykernel)",
   "language": "python",
   "name": "python3"
  },
  "language_info": {
   "codemirror_mode": {
    "name": "ipython",
    "version": 3
   },
   "file_extension": ".py",
   "mimetype": "text/x-python",
   "name": "python",
   "nbconvert_exporter": "python",
   "pygments_lexer": "ipython3",
   "version": "3.11.7"
  }
 },
 "nbformat": 4,
 "nbformat_minor": 5
}
