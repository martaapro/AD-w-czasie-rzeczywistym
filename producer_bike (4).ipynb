{
 "cells": [
  {
   "cell_type": "code",
   "execution_count": 2,
   "id": "fc50b489-eb62-4fb9-b2c2-c3de45f570d0",
   "metadata": {},
   "outputs": [
    {
     "ename": "KafkaTimeoutError",
     "evalue": "KafkaTimeoutError: Failed to update metadata after 60.0 secs.",
     "output_type": "error",
     "traceback": [
      "\u001b[1;31m---------------------------------------------------------------------------\u001b[0m",
      "\u001b[1;31mKafkaTimeoutError\u001b[0m                         Traceback (most recent call last)",
      "Cell \u001b[1;32mIn[2], line 47\u001b[0m\n\u001b[0;32m     45\u001b[0m     \u001b[38;5;28;01mwhile\u001b[39;00m \u001b[38;5;28;01mTrue\u001b[39;00m:\n\u001b[0;32m     46\u001b[0m         all_messages \u001b[38;5;241m=\u001b[39m generate_json(df)\n\u001b[1;32m---> 47\u001b[0m         producer\u001b[38;5;241m.\u001b[39msend(KAFKA_TOPIC, value\u001b[38;5;241m=\u001b[39mall_messages)\n\u001b[0;32m     48\u001b[0m         sleep(LAG)\n\u001b[0;32m     50\u001b[0m \u001b[38;5;28;01mexcept\u001b[39;00m \u001b[38;5;167;01mKeyboardInterrupt\u001b[39;00m:\n",
      "File \u001b[1;32m~\\anaconda3\\Lib\\site-packages\\kafka\\producer\\kafka.py:576\u001b[0m, in \u001b[0;36mKafkaProducer.send\u001b[1;34m(self, topic, value, key, headers, partition, timestamp_ms)\u001b[0m\n\u001b[0;32m    574\u001b[0m key_bytes \u001b[38;5;241m=\u001b[39m value_bytes \u001b[38;5;241m=\u001b[39m \u001b[38;5;28;01mNone\u001b[39;00m\n\u001b[0;32m    575\u001b[0m \u001b[38;5;28;01mtry\u001b[39;00m:\n\u001b[1;32m--> 576\u001b[0m     \u001b[38;5;28mself\u001b[39m\u001b[38;5;241m.\u001b[39m_wait_on_metadata(topic, \u001b[38;5;28mself\u001b[39m\u001b[38;5;241m.\u001b[39mconfig[\u001b[38;5;124m'\u001b[39m\u001b[38;5;124mmax_block_ms\u001b[39m\u001b[38;5;124m'\u001b[39m] \u001b[38;5;241m/\u001b[39m \u001b[38;5;241m1000.0\u001b[39m)\n\u001b[0;32m    578\u001b[0m     key_bytes \u001b[38;5;241m=\u001b[39m \u001b[38;5;28mself\u001b[39m\u001b[38;5;241m.\u001b[39m_serialize(\n\u001b[0;32m    579\u001b[0m         \u001b[38;5;28mself\u001b[39m\u001b[38;5;241m.\u001b[39mconfig[\u001b[38;5;124m'\u001b[39m\u001b[38;5;124mkey_serializer\u001b[39m\u001b[38;5;124m'\u001b[39m],\n\u001b[0;32m    580\u001b[0m         topic, key)\n\u001b[0;32m    581\u001b[0m     value_bytes \u001b[38;5;241m=\u001b[39m \u001b[38;5;28mself\u001b[39m\u001b[38;5;241m.\u001b[39m_serialize(\n\u001b[0;32m    582\u001b[0m         \u001b[38;5;28mself\u001b[39m\u001b[38;5;241m.\u001b[39mconfig[\u001b[38;5;124m'\u001b[39m\u001b[38;5;124mvalue_serializer\u001b[39m\u001b[38;5;124m'\u001b[39m],\n\u001b[0;32m    583\u001b[0m         topic, value)\n",
      "File \u001b[1;32m~\\anaconda3\\Lib\\site-packages\\kafka\\producer\\kafka.py:702\u001b[0m, in \u001b[0;36mKafkaProducer._wait_on_metadata\u001b[1;34m(self, topic, max_wait)\u001b[0m\n\u001b[0;32m    700\u001b[0m elapsed \u001b[38;5;241m=\u001b[39m time\u001b[38;5;241m.\u001b[39mtime() \u001b[38;5;241m-\u001b[39m begin\n\u001b[0;32m    701\u001b[0m \u001b[38;5;28;01mif\u001b[39;00m \u001b[38;5;129;01mnot\u001b[39;00m metadata_event\u001b[38;5;241m.\u001b[39mis_set():\n\u001b[1;32m--> 702\u001b[0m     \u001b[38;5;28;01mraise\u001b[39;00m Errors\u001b[38;5;241m.\u001b[39mKafkaTimeoutError(\n\u001b[0;32m    703\u001b[0m         \u001b[38;5;124m\"\u001b[39m\u001b[38;5;124mFailed to update metadata after \u001b[39m\u001b[38;5;132;01m%.1f\u001b[39;00m\u001b[38;5;124m secs.\u001b[39m\u001b[38;5;124m\"\u001b[39m \u001b[38;5;241m%\u001b[39m (max_wait,))\n\u001b[0;32m    704\u001b[0m \u001b[38;5;28;01melif\u001b[39;00m topic \u001b[38;5;129;01min\u001b[39;00m \u001b[38;5;28mself\u001b[39m\u001b[38;5;241m.\u001b[39m_metadata\u001b[38;5;241m.\u001b[39munauthorized_topics:\n\u001b[0;32m    705\u001b[0m     \u001b[38;5;28;01mraise\u001b[39;00m Errors\u001b[38;5;241m.\u001b[39mTopicAuthorizationFailedError(topic)\n",
      "\u001b[1;31mKafkaTimeoutError\u001b[0m: KafkaTimeoutError: Failed to update metadata after 60.0 secs."
     ]
    }
   ],
   "source": [
    "import json\n",
    "import random\n",
    "from datetime import datetime, timedelta\n",
    "from time import sleep\n",
    "import pandas as pd\n",
    "from kafka import KafkaProducer\n",
    "\n",
    "KAFKA_TOPIC = 'streaming'\n",
    "SERVER = \"broker:9092\"\n",
    "LAG = 10\n",
    "\n",
    "def bike_random(row):\n",
    "    bike_number = random.randint(0, row['Number of slots'])\n",
    "    e_bike_number = random.randint(0, row['Number of slots'] - bike_number)\n",
    "    empty_slots = row['Number of slots'] - bike_number - e_bike_number\n",
    "    return bike_number, e_bike_number, empty_slots\n",
    "\n",
    "def generate_json(df):\n",
    "    all_messages = []\n",
    "    current_time = datetime.utcnow().strftime(\"%Y-%m-%d %H:%M:%S\")\n",
    "    for index, row in df.iterrows():\n",
    "        bike_number, e_bike_number, empty_slots = bike_random(row)\n",
    "        message = {\n",
    "            \"station_name\": row['Station Name'],\n",
    "            \"latitude\": row['Latitude'],\n",
    "            \"longitude\": row['Longitude'],\n",
    "            \"number_of_slots\": row['Number of slots'],\n",
    "            \"number_of_free_bikes\": bike_number,\n",
    "            \"number_of_e_bikes\": e_bike_number,\n",
    "            \"number_of_empty_slots\": empty_slots,\n",
    "            \"update_time\": current_time\n",
    "        }\n",
    "        all_messages.append(message)\n",
    "    return all_messages\n",
    "\n",
    "if __name__ == \"__main__\":\n",
    "    df = pd.read_excel(\"bike.xlsx\")\n",
    "    producer = KafkaProducer(\n",
    "        bootstrap_servers=[SERVER],\n",
    "        value_serializer=lambda x: json.dumps(x).encode(\"utf-8\"),\n",
    "        api_version=(3, 7, 0),\n",
    "    )\n",
    "    \n",
    "    try:\n",
    "        while True:\n",
    "            all_messages = generate_json(df)\n",
    "            producer.send(KAFKA_TOPIC, value=all_messages)\n",
    "            sleep(LAG)\n",
    "\n",
    "    except KeyboardInterrupt:\n",
    "        producer.close()\n"
   ]
  },
  {
   "cell_type": "code",
   "execution_count": null,
   "id": "6a741391-0605-475d-aa3c-d40329dd8aa0",
   "metadata": {},
   "outputs": [],
   "source": []
  }
 ],
 "metadata": {
  "kernelspec": {
   "display_name": "Python 3 (ipykernel)",
   "language": "python",
   "name": "python3"
  },
  "language_info": {
   "codemirror_mode": {
    "name": "ipython",
    "version": 3
   },
   "file_extension": ".py",
   "mimetype": "text/x-python",
   "name": "python",
   "nbconvert_exporter": "python",
   "pygments_lexer": "ipython3",
   "version": "3.11.7"
  }
 },
 "nbformat": 4,
 "nbformat_minor": 5
}
