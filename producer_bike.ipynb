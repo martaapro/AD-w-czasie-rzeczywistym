{
 "cells": [
  {
   "cell_type": "code",
   "execution_count": 6,
   "id": "fc50b489-eb62-4fb9-b2c2-c3de45f570d0",
   "metadata": {},
   "outputs": [
    {
     "name": "stdout",
     "output_type": "stream",
     "text": [
      "Overwriting producer1.py\n"
     ]
    }
   ],
   "source": [
    "%%file producer1.py\n",
    "\n",
    "import json\n",
    "import time\n",
    "import logging\n",
    "import socket\n",
    "from datetime import datetime\n",
    "import requests\n",
    "import pandas as pd\n",
    "from confluent_kafka import Producer\n",
    "\n",
    "KAFKA_BROKER = 'broker:9092'\n",
    "TRANSACTION_TOPIC = 'streaming'\n",
    "LAG = 0.5\n",
    "\n",
    "def create_producer():\n",
    "    try:\n",
    "        producer = Producer({\n",
    "            \"bootstrap.servers\": KAFKA_BROKER,\n",
    "            \"client.id\": socket.gethostname(),\n",
    "            \"enable.idempotence\": True,\n",
    "            \"batch.size\": 64000,\n",
    "            \"linger.ms\": 10,\n",
    "            \"acks\": \"all\",\n",
    "            \"retries\": 5,\n",
    "            \"delivery.timeout.ms\": 1000\n",
    "        })\n",
    "    except Exception as e:\n",
    "        logging.exception(\"Nie mogę utworzyć producenta\")\n",
    "        producer = None\n",
    "    return producer\n",
    "\n",
    "def fetch_data():\n",
    "    url = 'http://api.citybik.es/v2/networks/velib'\n",
    "    response = requests.get(url)\n",
    "\n",
    "    if response.status_code != 200:\n",
    "        print(\"Request failed. Status code:\", response.status_code)\n",
    "        return None\n",
    "\n",
    "    data = response.json()\n",
    "    stations = data['network']['stations']\n",
    "    \n",
    "    # Ekstrahowanie detali\n",
    "    station_data = []\n",
    "    for station in stations:\n",
    "        station_info = {\n",
    "            'Station Name': station['name'],\n",
    "            'Latitude': station['latitude'],\n",
    "            'Longitude': station['longitude'],\n",
    "            'Number of empty slots': station.get('empty_slots', 0),\n",
    "            'Number of free bikes': station.get('free_bikes', 0),\n",
    "            'Number of e-bikes': station['extra'].get('ebikes', 0),\n",
    "            'Payment terminal': station['extra'].get('payment-terminal', False),\n",
    "            'Banking': station['extra'].get('banking', False),\n",
    "            'Now renting': station['extra'].get('renting', 0),\n",
    "            'Now returning': station['extra'].get('returning', 0),\n",
    "            'Last updated': station.get('returning', 0)\n",
    "        }\n",
    "        station_data.append(station_info)\n",
    "\n",
    "    return station_data\n",
    "\n",
    "producer = create_producer()\n",
    "if producer is not None:\n",
    "    while True:\n",
    "        data = fetch_data()\n",
    "        if data:\n",
    "            for station in data:\n",
    "                current_time = datetime.utcnow().isoformat()\n",
    "                station['current_time'] = current_time\n",
    "                record = json.dumps(station).encode(\"utf-8\")\n",
    "                producer.produce(topic=TRANSACTION_TOPIC, value=record)\n",
    "                print(f\"Sent: {record}\")\n",
    "                producer.flush()\n",
    "                time.sleep(LAG)\n",
    "        else:\n",
    "            print(\"Failed to fetch data. Retrying...\")\n",
    "            time.sleep(60)\n"
   ]
  },
  {
   "cell_type": "code",
   "execution_count": null,
   "id": "e8c4cfec-3292-4b7e-8a47-be61fb92eda3",
   "metadata": {},
   "outputs": [],
   "source": []
  }
 ],
 "metadata": {
  "kernelspec": {
   "display_name": "Python 3 (ipykernel)",
   "language": "python",
   "name": "python3"
  },
  "language_info": {
   "codemirror_mode": {
    "name": "ipython",
    "version": 3
   },
   "file_extension": ".py",
   "mimetype": "text/x-python",
   "name": "python",
   "nbconvert_exporter": "python",
   "pygments_lexer": "ipython3",
   "version": "3.11.7"
  }
 },
 "nbformat": 4,
 "nbformat_minor": 5
}
